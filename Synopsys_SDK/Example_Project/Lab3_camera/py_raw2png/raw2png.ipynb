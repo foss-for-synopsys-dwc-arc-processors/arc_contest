{
 "cells": [
  {
   "cell_type": "code",
   "execution_count": 2,
   "metadata": {},
   "outputs": [],
   "source": [
    "import numpy as np\n",
    "from PIL import Image"
   ]
  },
  {
   "cell_type": "code",
   "execution_count": 3,
   "metadata": {},
   "outputs": [
    {
     "name": "stdout",
     "output_type": "stream",
     "text": [
      "[[105 104 104 ...  67  64  61]\n",
      " [104 104 103 ...  66  74  66]\n",
      " [103 104 105 ...  66  66  67]\n",
      " ...\n",
      " [ 78  80  81 ...  47  49  51]\n",
      " [ 80  81  83 ...  49  50  49]\n",
      " [ 76  77  77 ...  52  47  49]]\n",
      "(480, 640)\n"
     ]
    }
   ],
   "source": [
    "data_input = np.genfromtxt(\"camera_y.log\", delimiter=',')  \n",
    "data_input = np.uint8(data_input)\n",
    "\n",
    "print(data_input)\n",
    "print(data_input.shape)\n",
    "\n",
    "img = Image.fromarray(data_input, 'L')\n",
    "img.save('my_gray.png')\n",
    "img.show()"
   ]
  },
  {
   "cell_type": "code",
   "execution_count": null,
   "metadata": {},
   "outputs": [],
   "source": []
  }
 ],
 "metadata": {
  "kernelspec": {
   "display_name": "Python 3",
   "language": "python",
   "name": "python3"
  },
  "language_info": {
   "codemirror_mode": {
    "name": "ipython",
    "version": 3
   },
   "file_extension": ".py",
   "mimetype": "text/x-python",
   "name": "python",
   "nbconvert_exporter": "python",
   "pygments_lexer": "ipython3",
   "version": "3.8.5"
  }
 },
 "nbformat": 4,
 "nbformat_minor": 4
}
