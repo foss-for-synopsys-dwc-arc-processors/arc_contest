{
 "cells": [
  {
   "cell_type": "code",
   "execution_count": 1,
   "metadata": {},
   "outputs": [],
   "source": [
    "from scipy.io.wavfile import write\n",
    "import numpy as np\n",
    "\n",
    "samplerate = 16000;"
   ]
  },
  {
   "cell_type": "code",
   "execution_count": 2,
   "metadata": {},
   "outputs": [
    {
     "name": "stdout",
     "output_type": "stream",
     "text": [
      "[[ 0.00000e+00  8.03000e+02  5.20000e+01]\n",
      " [ 1.00000e+00  9.29900e+03  9.49300e+03]\n",
      " [ 2.00000e+00 -4.11000e+02  5.62000e+02]\n",
      " ...\n",
      " [ 2.28797e+05 -1.74900e+03 -3.11500e+03]\n",
      " [ 2.28798e+05 -4.20300e+03 -9.50900e+03]\n",
      " [ 2.28799e+05  2.84000e+02  7.30400e+03]]\n"
     ]
    }
   ],
   "source": [
    "data_input = np.genfromtxt(\"pcm_dual.log\", delimiter=',')  \n",
    "print(data_input)"
   ]
  },
  {
   "cell_type": "code",
   "execution_count": 3,
   "metadata": {},
   "outputs": [
    {
     "name": "stdout",
     "output_type": "stream",
     "text": [
      "[[ 0.00000e+00  1.00000e+00  2.00000e+00 ...  2.28797e+05  2.28798e+05\n",
      "   2.28799e+05]\n",
      " [ 8.03000e+02  9.29900e+03 -4.11000e+02 ... -1.74900e+03 -4.20300e+03\n",
      "   2.84000e+02]\n",
      " [ 5.20000e+01  9.49300e+03  5.62000e+02 ... -3.11500e+03 -9.50900e+03\n",
      "   7.30400e+03]]\n"
     ]
    }
   ],
   "source": [
    "data_input = data_input.T\n",
    "print(data_input)"
   ]
  },
  {
   "cell_type": "code",
   "execution_count": 4,
   "metadata": {},
   "outputs": [
    {
     "name": "stdout",
     "output_type": "stream",
     "text": [
      "[0.00000e+00 1.00000e+00 2.00000e+00 ... 2.28797e+05 2.28798e+05\n",
      " 2.28799e+05]\n"
     ]
    }
   ],
   "source": [
    "data_serial_number = data_input[0]\n",
    "print(data_serial_number)"
   ]
  },
  {
   "cell_type": "code",
   "execution_count": 5,
   "metadata": {},
   "outputs": [
    {
     "name": "stdout",
     "output_type": "stream",
     "text": [
      "[  803.  9299.  -411. ... -1749. -4203.   284.]\n"
     ]
    }
   ],
   "source": [
    "left_channel = data_input[1]\n",
    "print(left_channel)"
   ]
  },
  {
   "cell_type": "code",
   "execution_count": 6,
   "metadata": {},
   "outputs": [
    {
     "name": "stdout",
     "output_type": "stream",
     "text": [
      "[   52.  9493.   562. ... -3115. -9509.  7304.]\n"
     ]
    }
   ],
   "source": [
    "right_channel = data_input[2]\n",
    "print(right_channel)"
   ]
  },
  {
   "cell_type": "code",
   "execution_count": 7,
   "metadata": {},
   "outputs": [
    {
     "name": "stdout",
     "output_type": "stream",
     "text": [
      "[  427.5  9396.     75.5 ... -2432.  -6856.   3794. ]\n"
     ]
    }
   ],
   "source": [
    "dual_channel = left_channel + right_channel\n",
    "dual_channel = dual_channel / 2\n",
    "print(dual_channel)"
   ]
  },
  {
   "cell_type": "code",
   "execution_count": 8,
   "metadata": {},
   "outputs": [],
   "source": [
    "write(\"pcm16_example.wav\", samplerate, dual_channel.astype(np.int16))"
   ]
  },
  {
   "cell_type": "code",
   "execution_count": null,
   "metadata": {},
   "outputs": [],
   "source": []
  }
 ],
 "metadata": {
  "kernelspec": {
   "display_name": "Python 3",
   "language": "python",
   "name": "python3"
  },
  "language_info": {
   "codemirror_mode": {
    "name": "ipython",
    "version": 3
   },
   "file_extension": ".py",
   "mimetype": "text/x-python",
   "name": "python",
   "nbconvert_exporter": "python",
   "pygments_lexer": "ipython3",
   "version": "3.8.5"
  }
 },
 "nbformat": 4,
 "nbformat_minor": 4
}
