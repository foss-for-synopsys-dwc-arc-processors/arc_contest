{
 "cells": [
  {
   "cell_type": "code",
   "execution_count": 1,
   "metadata": {},
   "outputs": [],
   "source": [
    "import numpy as np\n",
    "from PIL import Image"
   ]
  },
  {
   "cell_type": "code",
   "execution_count": null,
   "metadata": {},
   "outputs": [],
   "source": []
  },
  {
   "cell_type": "code",
   "execution_count": 3,
   "metadata": {},
   "outputs": [
    {
     "name": "stdout",
     "output_type": "stream",
     "text": [
      "[[53 51 52 ... 61 61 60]\n",
      " [52 51 55 ... 60 59 59]\n",
      " [51 53 59 ... 59 59 59]\n",
      " ...\n",
      " [41 38 38 ... 44 35 36]\n",
      " [40 39 36 ... 44 35 36]\n",
      " [42 43 37 ... 46 58 37]]\n",
      "(100, 100)\n"
     ]
    }
   ],
   "source": [
    "data_input = np.genfromtxt(\"test1.txt\", delimiter=',')  \n",
    "data_input = np.uint8(data_input)\n",
    "\n",
    "print(data_input)\n",
    "print(data_input.shape)\n",
    "\n",
    "img = Image.fromarray(data_input, 'L')\n",
    "img.save('test1.png')\n",
    "img.show()"
   ]
  },
  {
   "cell_type": "code",
   "execution_count": null,
   "metadata": {},
   "outputs": [],
   "source": [
    "img = Image.open('test1.png')\n",
    "plt.imshow(img)\n",
    "plt.show"
   ]
  },
  {
   "cell_type": "code",
   "execution_count": null,
   "metadata": {},
   "outputs": [],
   "source": []
  },
  {
   "cell_type": "code",
   "execution_count": null,
   "metadata": {},
   "outputs": [],
   "source": []
  }
 ],
 "metadata": {
  "kernelspec": {
   "display_name": "Python 3 (ipykernel)",
   "language": "python",
   "name": "python3"
  },
  "language_info": {
   "codemirror_mode": {
    "name": "ipython",
    "version": 3
   },
   "file_extension": ".py",
   "mimetype": "text/x-python",
   "name": "python",
   "nbconvert_exporter": "python",
   "pygments_lexer": "ipython3",
   "version": "3.8.16"
  }
 },
 "nbformat": 4,
 "nbformat_minor": 4
}
