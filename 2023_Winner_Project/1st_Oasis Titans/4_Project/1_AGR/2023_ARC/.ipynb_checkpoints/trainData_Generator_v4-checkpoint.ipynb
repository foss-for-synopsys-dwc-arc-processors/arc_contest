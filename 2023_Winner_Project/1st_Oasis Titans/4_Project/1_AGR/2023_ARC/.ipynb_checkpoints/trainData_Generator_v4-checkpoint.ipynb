{
 "cells": [
  {
   "cell_type": "code",
   "execution_count": null,
   "id": "4f48b5c8",
   "metadata": {},
   "outputs": [],
   "source": [
    "import os\n",
    "import numpy as np\n",
    "import pandas as pd\n",
    "from random import randrange \n",
    "from PIL import Image\n",
    "import matplotlib.pyplot as plt\n",
    "import random\n",
    "import cv2"
   ]
  },
  {
   "cell_type": "code",
   "execution_count": null,
   "id": "e2061a2b",
   "metadata": {},
   "outputs": [],
   "source": [
    "height = 100 # 224\n",
    "width = 100 # 224"
   ]
  },
  {
   "cell_type": "markdown",
   "id": "822d21a5",
   "metadata": {},
   "source": [
    "## Guage image"
   ]
  },
  {
   "cell_type": "code",
   "execution_count": null,
   "id": "af4ee612",
   "metadata": {},
   "outputs": [],
   "source": [
    "gauge_1 = \"./gauge_img/gauge.png\""
   ]
  },
  {
   "cell_type": "code",
   "execution_count": null,
   "id": "9604907e",
   "metadata": {},
   "outputs": [],
   "source": [
    "gauge_1_img = Image.open(gauge_1).convert('RGBA')\n",
    "gauge_1_img = gauge_1_img.resize((height, width), Image.BILINEAR)\n",
    "plt.imshow(gauge_1_img)"
   ]
  },
  {
   "cell_type": "markdown",
   "id": "2264c6af",
   "metadata": {},
   "source": [
    "## Needle image"
   ]
  },
  {
   "cell_type": "code",
   "execution_count": null,
   "id": "1b60cd91",
   "metadata": {},
   "outputs": [],
   "source": [
    "needle = \"./gauge_img/needle.png\""
   ]
  },
  {
   "cell_type": "code",
   "execution_count": null,
   "id": "32025741",
   "metadata": {},
   "outputs": [],
   "source": [
    "needle_img = Image.open(needle).convert('RGBA')\n",
    "needle_img = needle_img.resize((height, width), Image.BILINEAR)\n",
    "plt.imshow(needle_img)"
   ]
  },
  {
   "cell_type": "markdown",
   "id": "88eecf35",
   "metadata": {},
   "source": [
    "## Generate Random Image"
   ]
  },
  {
   "cell_type": "code",
   "execution_count": null,
   "id": "ccc8e8b1",
   "metadata": {},
   "outputs": [],
   "source": [
    "rotate_degree = randrange(0, 360) #-180,180"
   ]
  },
  {
   "cell_type": "code",
   "execution_count": null,
   "id": "192f5b49",
   "metadata": {},
   "outputs": [],
   "source": [
    "print(\"rotate degree: \", rotate_degree)"
   ]
  },
  {
   "cell_type": "code",
   "execution_count": null,
   "id": "ecaea567",
   "metadata": {},
   "outputs": [],
   "source": [
    "rotate_needle = needle_img.rotate(rotate_degree, expand=False)\n",
    "rotate_needle = rotate_needle.transpose(Image.FLIP_LEFT_RIGHT)\n",
    "plt.imshow(rotate_needle)"
   ]
  },
  {
   "cell_type": "code",
   "execution_count": null,
   "id": "e07e88d3",
   "metadata": {
    "scrolled": false
   },
   "outputs": [],
   "source": [
    "random_gauge = gauge_1_img.copy()\n",
    "random_gauge.paste(rotate_needle.convert('L'), (0, 0), rotate_needle.convert('RGBA'))\n",
    "plt.imshow(random_gauge)"
   ]
  },
  {
   "cell_type": "code",
   "execution_count": null,
   "id": "40700cdb",
   "metadata": {},
   "outputs": [],
   "source": [
    "gray_random_gauge = random_gauge.convert('L')\n",
    "plt.imshow(gray_random_gauge, cmap='gray')"
   ]
  },
  {
   "cell_type": "markdown",
   "id": "8c31f7c0",
   "metadata": {},
   "source": [
    "## Data Augmentation"
   ]
  },
  {
   "cell_type": "code",
   "execution_count": null,
   "id": "a10228cb",
   "metadata": {},
   "outputs": [],
   "source": [
    "def random_bright(img, p=0.5, lower=0.02, upper=1.02):\n",
    "    img = np.array(img, dtype='uint8')\n",
    "    \n",
    "    if random.random() < p:\n",
    "        img = img * random.uniform(lower, upper)\n",
    "    \n",
    "    img = Image.fromarray(np.uint8(img))\n",
    "    \n",
    "    return img"
   ]
  },
  {
   "cell_type": "code",
   "execution_count": null,
   "id": "18898d8f",
   "metadata": {},
   "outputs": [],
   "source": [
    "def random_swap(img, p=0.5):\n",
    "    img = np.array(img, dtype='uint8')\n",
    "    \n",
    "    perms = [(0,1,2), (0,2,1), (1,0,2), (1,2,0), (2,0,1), (2,1,0)]\n",
    "    if random.random() < p:\n",
    "        swap = perms[random.randrange(0, len(perms))]\n",
    "        img[:, :, (0,1,2)] = img[:, :, swap]\n",
    "    \n",
    "    img = Image.fromarray(np.uint8(img))\n",
    "    \n",
    "    return img"
   ]
  },
  {
   "cell_type": "code",
   "execution_count": null,
   "id": "cfce1d41",
   "metadata": {},
   "outputs": [],
   "source": [
    "def random_saturation(img, p=0.5, lower=0.02, upper=1.02):\n",
    "    img = np.array(img, dtype='uint8')\n",
    "    \n",
    "    if random.random() < p:\n",
    "        img[:, :, 1] = img[:, :, 1] * random.uniform(lower, upper)\n",
    "    \n",
    "    img = Image.fromarray(np.uint8(img))\n",
    "    \n",
    "    return img"
   ]
  },
  {
   "cell_type": "code",
   "execution_count": null,
   "id": "7f81dafa",
   "metadata": {},
   "outputs": [],
   "source": [
    "def random_hue(img, p=0.5, delta=18.0):\n",
    "    img = np.array(img, dtype='uint8')\n",
    "    \n",
    "    if random.random() < p:\n",
    "        img[:, :, 0] = img[:, :, 0] + random.uniform(-delta, delta)\n",
    "        img[:, :, 0][img[:, :, 0] > 360.0] = img[:, :, 0][img[:, :, 0] > 360.0] - 360.0\n",
    "        img[:, :, 0][img[:, :, 0] < 0.0] = img[:, :, 0][img[:, :, 0] < 0.0] + 360.0\n",
    "    \n",
    "    img = Image.fromarray(np.uint8(img))\n",
    "    \n",
    "    return img"
   ]
  },
  {
   "cell_type": "code",
   "execution_count": null,
   "id": "aafad130",
   "metadata": {},
   "outputs": [],
   "source": [
    "def data_augmentation(src):\n",
    "    dst = src.copy()\n",
    "    dst = random_bright(dst, p=0.5)\n",
    "#     dst = random_swap(dst, p=0.5)\n",
    "    dst = random_saturation(dst, p=0.5)\n",
    "    dst = random_hue(dst, p=0.5)\n",
    "    \n",
    "    return dst"
   ]
  },
  {
   "cell_type": "code",
   "execution_count": null,
   "id": "dcdeea73",
   "metadata": {},
   "outputs": [],
   "source": [
    "# conda install openpyxl\n",
    "def data_generator(num, imgDir_path, labDir_path):\n",
    "    degree_list = []\n",
    "    for i in range(num):\n",
    "        rotate_degree = randrange(0, 360) #-180,180 \n",
    "        quan_rotate_degree = int(rotate_degree/5) # label scaling /5\n",
    "        degree_list.append(quan_rotate_degree) \n",
    "        print(\"{}, rotate degree: {}, class: {}\".format(i, rotate_degree, quan_rotate_degree))\n",
    "        \n",
    "        rotate_needle = needle_img.rotate(rotate_degree, expand=False)\n",
    "        rotate_needle = rotate_needle.transpose(Image.FLIP_LEFT_RIGHT)\n",
    "        \n",
    "        random_gauge = gauge_1_img.copy()\n",
    "        \n",
    "        # data augmentation\n",
    "#         random_gauge = data_augmentation(random_gauge)\n",
    "        \n",
    "        random_gauge.paste(rotate_needle.convert('L'), (0, 0), rotate_needle.convert('RGBA'))\n",
    "        \n",
    "        \n",
    "        gray_random_gauge = random_gauge.convert('L') # to gray\n",
    "        \n",
    "        img_path = imgDir_path + '/' + str(i) + '.png'\n",
    "        gray_random_gauge.save(img_path, \"png\")\n",
    "    \n",
    "    df = pd.DataFrame(degree_list, columns=['degree'])\n",
    "    df.index.name = None\n",
    "    return df"
   ]
  },
  {
   "cell_type": "code",
   "execution_count": null,
   "id": "f85d941f",
   "metadata": {},
   "outputs": [],
   "source": []
  },
  {
   "cell_type": "code",
   "execution_count": null,
   "id": "fdf16125",
   "metadata": {},
   "outputs": [],
   "source": [
    "imgDir_path = './train_img'\n",
    "labDir_path = './train_label'"
   ]
  },
  {
   "cell_type": "code",
   "execution_count": null,
   "id": "297cd388",
   "metadata": {},
   "outputs": [],
   "source": [
    "num = 1000"
   ]
  },
  {
   "cell_type": "code",
   "execution_count": null,
   "id": "fd7f4fce",
   "metadata": {},
   "outputs": [],
   "source": [
    "df = data_generator(num, imgDir_path, labDir_path)"
   ]
  },
  {
   "cell_type": "code",
   "execution_count": null,
   "id": "67cd534a",
   "metadata": {},
   "outputs": [],
   "source": [
    "df.head(5)"
   ]
  },
  {
   "cell_type": "code",
   "execution_count": null,
   "id": "0d883419",
   "metadata": {},
   "outputs": [],
   "source": [
    "df.to_csv(labDir_path + \"/label.csv\")"
   ]
  },
  {
   "cell_type": "code",
   "execution_count": null,
   "id": "046c1808",
   "metadata": {},
   "outputs": [],
   "source": [
    "df"
   ]
  },
  {
   "cell_type": "code",
   "execution_count": null,
   "id": "eb780019",
   "metadata": {},
   "outputs": [],
   "source": [
    "train_img_path = \"./train_img/\" "
   ]
  },
  {
   "cell_type": "code",
   "execution_count": null,
   "id": "30f4516d",
   "metadata": {},
   "outputs": [],
   "source": [
    "for i in range(50):\n",
    "    show_img_path = train_img_path + str(i) + \".png\"\n",
    "    show_img = Image.open(show_img_path).convert('RGBA')\n",
    "    plt.imshow(show_img, cmap='gray')\n",
    "    plt.show()"
   ]
  },
  {
   "cell_type": "code",
   "execution_count": null,
   "id": "5b8e769d",
   "metadata": {},
   "outputs": [],
   "source": []
  },
  {
   "cell_type": "code",
   "execution_count": null,
   "id": "5878fdb8",
   "metadata": {},
   "outputs": [],
   "source": []
  }
 ],
 "metadata": {
  "kernelspec": {
   "display_name": "Python 3 (ipykernel)",
   "language": "python",
   "name": "python3"
  },
  "language_info": {
   "codemirror_mode": {
    "name": "ipython",
    "version": 3
   },
   "file_extension": ".py",
   "mimetype": "text/x-python",
   "name": "python",
   "nbconvert_exporter": "python",
   "pygments_lexer": "ipython3",
   "version": "3.8.16"
  }
 },
 "nbformat": 4,
 "nbformat_minor": 5
}
