{
 "cells": [
  {
   "cell_type": "code",
   "execution_count": 36,
   "id": "e2861df5",
   "metadata": {},
   "outputs": [],
   "source": [
    "# Input\n",
    "pred = 46\n",
    "\n",
    "# Parameters\n",
    "init_degree = 216\n",
    "scaling = 6\n",
    "degree_per_scale = 7.2\n",
    "value_per_scale = 0.1\n",
    "\n",
    "# Outputs\n",
    "map_degree = 0\n",
    "gauge_value = 0"
   ]
  },
  {
   "cell_type": "code",
   "execution_count": 37,
   "id": "fd1e9317",
   "metadata": {},
   "outputs": [],
   "source": [
    "map_degree = (pred * scaling + scaling/2 + 360 - init_degree) % 360"
   ]
  },
  {
   "cell_type": "code",
   "execution_count": 38,
   "id": "189a3f22",
   "metadata": {},
   "outputs": [],
   "source": [
    "gauge_value = (map_degree/degree_per_scale) * value_per_scale"
   ]
  },
  {
   "cell_type": "code",
   "execution_count": 39,
   "id": "a29c0f8f",
   "metadata": {},
   "outputs": [
    {
     "name": "stdout",
     "output_type": "stream",
     "text": [
      "63.0\n"
     ]
    }
   ],
   "source": [
    "print(map_degree)"
   ]
  },
  {
   "cell_type": "code",
   "execution_count": 40,
   "id": "5d7e8783",
   "metadata": {},
   "outputs": [
    {
     "name": "stdout",
     "output_type": "stream",
     "text": [
      "0.875\n"
     ]
    }
   ],
   "source": [
    "print(gauge_value)"
   ]
  },
  {
   "cell_type": "code",
   "execution_count": null,
   "id": "5477eefd",
   "metadata": {},
   "outputs": [],
   "source": []
  },
  {
   "cell_type": "code",
   "execution_count": null,
   "id": "43f2f6f1",
   "metadata": {},
   "outputs": [],
   "source": []
  }
 ],
 "metadata": {
  "kernelspec": {
   "display_name": "Python 3 (ipykernel)",
   "language": "python",
   "name": "python3"
  },
  "language_info": {
   "codemirror_mode": {
    "name": "ipython",
    "version": 3
   },
   "file_extension": ".py",
   "mimetype": "text/x-python",
   "name": "python",
   "nbconvert_exporter": "python",
   "pygments_lexer": "ipython3",
   "version": "3.8.0"
  }
 },
 "nbformat": 4,
 "nbformat_minor": 5
}
