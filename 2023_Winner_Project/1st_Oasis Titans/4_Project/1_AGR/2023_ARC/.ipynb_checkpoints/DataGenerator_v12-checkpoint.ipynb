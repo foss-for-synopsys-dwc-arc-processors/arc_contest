{
 "cells": [
  {
   "cell_type": "markdown",
   "id": "83ef2ed3",
   "metadata": {},
   "source": [
    "# <font color = purple> 2023 Synopsys ARC AIoT Design Contest - Data Generator </font>"
   ]
  },
  {
   "cell_type": "code",
   "execution_count": null,
   "id": "4f48b5c8",
   "metadata": {},
   "outputs": [],
   "source": [
    "import os\n",
    "import glob\n",
    "import random\n",
    "import numpy as np\n",
    "import pandas as pd\n",
    "import matplotlib.pyplot as plt\n",
    "from random import randrange \n",
    "from math import sqrt\n",
    "from PIL import Image\n",
    "from PIL import ImageEnhance, ImageFilter"
   ]
  },
  {
   "cell_type": "markdown",
   "id": "5665d489",
   "metadata": {},
   "source": [
    "## <font color = navy> Parameters </font>"
   ]
  },
  {
   "cell_type": "code",
   "execution_count": null,
   "id": "e2061a2b",
   "metadata": {},
   "outputs": [],
   "source": [
    "# Image Size\n",
    "height = 260 #224\n",
    "width = 260\n",
    "\n",
    "scale_height = 224\n",
    "scale_width = 224\n",
    "\n",
    "# Degree Unit\n",
    "DEG_UNIT = 5 #6 #4\n",
    "\n",
    "# Number of Data\n",
    "num = 20000\n",
    "\n",
    "# Image & Label Directory\n",
    "\n",
    "# classification\n",
    "imgDir_path = './train_img' \n",
    "labDir_path = './train_label'\n",
    "train_img_path = \"./train_img/\" \n",
    "\n",
    "# detection\n",
    "detectImg_path = './detection_img'\n",
    "detectLab_path = './detection_label'"
   ]
  },
  {
   "cell_type": "markdown",
   "id": "81cf8897",
   "metadata": {},
   "source": [
    "## <font color = navy> Image Path </font>"
   ]
  },
  {
   "cell_type": "code",
   "execution_count": null,
   "id": "c7eebb8d",
   "metadata": {},
   "outputs": [],
   "source": [
    "# Gauge (Pressure Gauge Reader Dataset)\n",
    "gauge1_path = \"./src_img/gauge_img/gauge1.png\"\n",
    "gauge2_path = \"./src_img/gauge_img/gauge2.png\"\n",
    "gauge3_path = \"./src_img/gauge_img/gauge3.png\"\n",
    "gauge4_path = \"./src_img/gauge_img/gauge4.png\"\n",
    "gauge5_path = \"./src_img/gauge_img/gauge5.png\"\n",
    "gauge6_path = \"./src_img/gauge_img/gauge6.png\"\n",
    "gauge7_path = \"./src_img/gauge_img/gauge7.png\"\n",
    "gauge8_path = \"./src_img/gauge_img/gauge8.png\"\n",
    "gauge9_path = \"./src_img/gauge_img/gauge9.png\"\n",
    "gauge10_path = \"./src_img/gauge_img/gauge10.png\"\n",
    "\n",
    "gauge_list = [gauge1_path,\n",
    "              gauge2_path,\n",
    "              gauge3_path,\n",
    "              gauge4_path,\n",
    "              gauge5_path,\n",
    "              gauge6_path,\n",
    "              gauge7_path,\n",
    "              gauge8_path,\n",
    "              gauge9_path,\n",
    "              gauge10_path]\n",
    "\n",
    "gauge_img_list = []\n",
    "\n",
    "for path in gauge_list:\n",
    "    gauge_img = Image.open(path).convert('RGBA')\n",
    "    gauge_img = gauge_img.resize((height, width), Image.BILINEAR)\n",
    "    gauge_img_list.append(gauge_img)\n",
    "\n",
    "    \n",
    "# Needle\n",
    "needle1_path = \"./src_img/needle_img/needle1.png\"\n",
    "needle2_path = \"./src_img/needle_img/needle2.png\"\n",
    "needle3_path = \"./src_img/needle_img/needle3.png\"\n",
    "needle4_path = \"./src_img/needle_img/needle4.png\"\n",
    "needle5_path = \"./src_img/needle_img/needle5.png\"\n",
    "\n",
    "needle_list = [needle1_path,\n",
    "               needle2_path,\n",
    "               needle3_path,\n",
    "               needle4_path,\n",
    "               needle5_path]\n",
    "\n",
    "needle_img_list = []\n",
    "\n",
    "for path in needle_list:\n",
    "    needle_img = Image.open(path).convert('RGBA')\n",
    "    needle_img = needle_img.resize((height, width), Image.BILINEAR)\n",
    "    needle_img_list.append(needle_img)\n",
    "\n",
    "\n",
    "# Background (Places Dataset - engine_room)\n",
    "bg_path = \"./src_img/backgroud_img/*\""
   ]
  },
  {
   "cell_type": "markdown",
   "id": "e79f1c6a",
   "metadata": {},
   "source": [
    "## <font color = navy> Cleanup Images </font>"
   ]
  },
  {
   "cell_type": "code",
   "execution_count": null,
   "id": "0879dd2d",
   "metadata": {},
   "outputs": [],
   "source": [
    "!ls"
   ]
  },
  {
   "cell_type": "code",
   "execution_count": null,
   "id": "e6a85b99",
   "metadata": {},
   "outputs": [],
   "source": [
    "# !rm ./train_img/*.png"
   ]
  },
  {
   "cell_type": "markdown",
   "id": "822d21a5",
   "metadata": {},
   "source": [
    "## <font color = navy> Guage Image </font>"
   ]
  },
  {
   "cell_type": "code",
   "execution_count": null,
   "id": "9604907e",
   "metadata": {},
   "outputs": [],
   "source": [
    "gauge1_img = Image.open(gauge1_path).convert('RGBA')\n",
    "gauge1_img = gauge1_img.resize((height, width), Image.BILINEAR)\n",
    "plt.imshow(gauge1_img)"
   ]
  },
  {
   "cell_type": "markdown",
   "id": "2264c6af",
   "metadata": {},
   "source": [
    "## <font color = navy> Needle Image </font>"
   ]
  },
  {
   "cell_type": "code",
   "execution_count": null,
   "id": "32025741",
   "metadata": {},
   "outputs": [],
   "source": [
    "needle1_img = Image.open(needle1_path).convert('RGBA')\n",
    "needle1_img = needle1_img.resize((height, width), Image.BILINEAR)\n",
    "plt.imshow(needle1_img)"
   ]
  },
  {
   "cell_type": "markdown",
   "id": "b21b1014",
   "metadata": {},
   "source": [
    "## <font color = navy> Load Background Image </font>"
   ]
  },
  {
   "cell_type": "code",
   "execution_count": null,
   "id": "8904972c",
   "metadata": {},
   "outputs": [],
   "source": [
    "bg_files = glob.glob(bg_path)\n",
    "bg_files"
   ]
  },
  {
   "cell_type": "code",
   "execution_count": null,
   "id": "c6e59880",
   "metadata": {},
   "outputs": [],
   "source": [
    "bg_list = []\n",
    "\n",
    "for idx, bg_file in enumerate(bg_files):\n",
    "    bg_img = Image.open(bg_file).convert('RGBA')\n",
    "    bg_img = bg_img.resize((height, width), Image.BILINEAR)\n",
    "    bg_list.append(bg_img)\n",
    "    \n",
    "    if idx==0:\n",
    "        plt.imshow(bg_img)\n",
    "        \n",
    "bg_num = len(bg_list)\n",
    "print(\"Number of Background Images: \", bg_num)"
   ]
  },
  {
   "cell_type": "markdown",
   "id": "88eecf35",
   "metadata": {},
   "source": [
    "## <font color = navy> Example: Generate Random Gauge (1 Sample) </font>"
   ]
  },
  {
   "cell_type": "code",
   "execution_count": null,
   "id": "192f5b49",
   "metadata": {},
   "outputs": [],
   "source": [
    "rotate_degree = randrange(0, 360) #-180,180\n",
    "print(\"rotate degree: \", rotate_degree)"
   ]
  },
  {
   "cell_type": "code",
   "execution_count": null,
   "id": "be10ff0c",
   "metadata": {},
   "outputs": [],
   "source": [
    "# Random Pick Gauge Image & Needle Image\n",
    "gauge_img = gauge_img_list[random.randint(1, len(gauge_list)-1)]\n",
    "plt.imshow(gauge_img)"
   ]
  },
  {
   "cell_type": "code",
   "execution_count": null,
   "id": "dfda63f7",
   "metadata": {},
   "outputs": [],
   "source": [
    "needle_img = needle_img_list[random.randint(1, len(needle_list)-1)]\n",
    "plt.imshow(needle_img)"
   ]
  },
  {
   "cell_type": "code",
   "execution_count": null,
   "id": "435d9167",
   "metadata": {},
   "outputs": [],
   "source": [
    "bg_img = bg_list[random.randint(1, len(bg_list)-1)]\n",
    "plt.imshow(bg_img)"
   ]
  },
  {
   "cell_type": "code",
   "execution_count": null,
   "id": "ecaea567",
   "metadata": {},
   "outputs": [],
   "source": [
    "rotate_needle = needle_img.rotate(rotate_degree, expand=False)\n",
    "rotate_needle = rotate_needle.transpose(Image.FLIP_LEFT_RIGHT)\n",
    "plt.imshow(rotate_needle)"
   ]
  },
  {
   "cell_type": "code",
   "execution_count": null,
   "id": "e07e88d3",
   "metadata": {
    "scrolled": false
   },
   "outputs": [],
   "source": [
    "random_img = bg_img.copy()\n",
    "random_img.paste(gauge_img.convert('L'), (0, 0), gauge_img.convert('RGBA'))\n",
    "plt.imshow(random_img)"
   ]
  },
  {
   "cell_type": "code",
   "execution_count": null,
   "id": "9deded4d",
   "metadata": {},
   "outputs": [],
   "source": [
    "random_img.paste(rotate_needle.convert('L'), (0, 0), rotate_needle.convert('RGBA'))\n",
    "plt.imshow(random_img)"
   ]
  },
  {
   "cell_type": "code",
   "execution_count": null,
   "id": "40700cdb",
   "metadata": {},
   "outputs": [],
   "source": [
    "gray_random_img = random_img.convert('L')\n",
    "plt.imshow(gray_random_img, cmap='gray')"
   ]
  },
  {
   "cell_type": "markdown",
   "id": "63d7fa0e",
   "metadata": {},
   "source": [
    "## <font color = navy>  Data Augmentation </font>"
   ]
  },
  {
   "cell_type": "code",
   "execution_count": null,
   "id": "8b7003bb",
   "metadata": {},
   "outputs": [],
   "source": [
    "def random_enhance(img, p=0.5):\n",
    "    if random.random() < p:\n",
    "        \n",
    "        # random saturation\n",
    "        random_factor = np.random.randint(0, 31) / 10.\n",
    "        img = ImageEnhance.Color(img).enhance(random_factor)\n",
    "        \n",
    "        # random brightness\n",
    "        random_factor = np.random.randint(10, 21) / 10.\n",
    "        img = ImageEnhance.Brightness(img).enhance(random_factor)\n",
    "        \n",
    "        # random contrast\n",
    "        random_factor = np.random.randint(10, 21) / 10.\n",
    "        img = ImageEnhance.Contrast(img).enhance(random_factor)\n",
    "        \n",
    "        # random sharpness\n",
    "        random_factor = np.random.randint(0, 31) / 10.\n",
    "        img = ImageEnhance.Sharpness(img).enhance(random_factor)\n",
    "        \n",
    "    return img\n",
    "\n",
    "def random_noise(img, p=0.5):\n",
    "    if random.random() < p:\n",
    "        noise_intensity = random.random() * 0.5 # 0 ~ 0.5\n",
    "        img = np.array(img)\n",
    "        noise = np.random.randint(0, 256, size=img.shape, dtype=np.uint8)\n",
    "        img = np.clip((1 - noise_intensity)*img + noise_intensity*noise, 0, 255).astype(np.uint8)\n",
    "        img = Image.fromarray(img)\n",
    "    \n",
    "    return img\n",
    "\n",
    "def random_blur(img, p=0.5):\n",
    "    if random.random() < p:\n",
    "        img = img.filter(ImageFilter.BLUR)\n",
    "    \n",
    "    return img\n"
   ]
  },
  {
   "cell_type": "code",
   "execution_count": null,
   "id": "32a61e16",
   "metadata": {},
   "outputs": [],
   "source": [
    "# fisheye\n",
    "def get_fish_xn_yn(source_x, source_y, radius, distortion):\n",
    "    \"\"\"\n",
    "    Get normalized x, y pixel coordinates from the original image and return normalized \n",
    "    x, y pixel coordinates in the destination fished image.\n",
    "    :param distortion: Amount in which to move pixels from/to center.\n",
    "    As distortion grows, pixels will be moved further from the center, and vice versa.\n",
    "    \"\"\"\n",
    "\n",
    "    if 1 - distortion*(radius**2) == 0:\n",
    "        return source_x, source_y\n",
    "\n",
    "    return source_x / (1 - (distortion*(radius**2))), source_y / (1 - (distortion*(radius**2)))\n",
    "\n",
    "\n",
    "def fish(img, distortion_coefficient):\n",
    "    \"\"\"\n",
    "    :type img: numpy.ndarray\n",
    "    :param distortion_coefficient: The amount of distortion to apply.\n",
    "    :return: numpy.ndarray - the image with applied effect.\n",
    "    \"\"\"\n",
    "\n",
    "    # If input image is only BW or RGB convert it to RGBA\n",
    "    # So that output 'frame' can be transparent.\n",
    "    img = np.array(img)\n",
    "    w, h = img.shape[0], img.shape[1]\n",
    "\n",
    "    # prepare array for dst image\n",
    "    dstimg = np.ones_like(img)\n",
    "    dstimg = dstimg * np.random.randint(256)\n",
    "    \n",
    "    # mean = int(np.mean(img))\n",
    "    # dstimg = np.ones_like(img)\n",
    "    # dstimg = dstimg * mean\n",
    "\n",
    "    # dstimg = np.zeros_like(img)\n",
    "    # print(dstimg.shape)\n",
    "    \n",
    "    # floats for calcultions\n",
    "    w, h = float(w), float(h)\n",
    "\n",
    "    # easier calcultion if we traverse x, y in dst image\n",
    "    for x in range(len(dstimg)):\n",
    "        for y in range(len(dstimg[x])):\n",
    "\n",
    "            # normalize x and y to be in interval of [-1, 1]\n",
    "            xnd, ynd = float((2*x - w)/w), float((2*y - h)/h)\n",
    "\n",
    "            # get xn and yn distance from normalized center\n",
    "            rd = sqrt(xnd**2 + ynd**2)\n",
    "\n",
    "            # new normalized pixel coordinates\n",
    "            xdu, ydu = get_fish_xn_yn(xnd, ynd, rd, distortion_coefficient)\n",
    "\n",
    "            # convert the normalized distorted xdn and ydn back to image pixels\n",
    "            xu, yu = int(((xdu + 1)*w)/2), int(((ydu + 1)*h)/2)\n",
    "\n",
    "            # if new pixel is in bounds copy from source pixel to destination pixel\n",
    "            if 0 <= xu and xu < img.shape[0] and 0 <= yu and yu < img.shape[1]:\n",
    "                dstimg[x][y] = img[xu][yu]\n",
    "    \n",
    "    dstimg = Image.fromarray(dstimg)\n",
    "\n",
    "    return dstimg\n",
    "\n",
    "def random_fisheye(img, p=0.5):\n",
    "    distortion = 0.15 # 0.25\n",
    "    if random.random() < p:\n",
    "        img = fish(img, distortion)\n",
    "    \n",
    "    return img"
   ]
  },
  {
   "cell_type": "code",
   "execution_count": null,
   "id": "2c9c54c0",
   "metadata": {},
   "outputs": [],
   "source": [
    "def check_size(size):\n",
    "    if type(size) == int:\n",
    "        size = (size, size)\n",
    "    if type(size) != tuple:\n",
    "        raise TypeError('size is int or tuple')\n",
    "    return size\n",
    "\n",
    "def center_crop(img, crop_size):\n",
    "    crop_size = check_size(crop_size)\n",
    "    img = np.array(img)\n",
    "    h, w = img.shape[0], img.shape[1]\n",
    "    top = (h - crop_size[0]) // 2\n",
    "    left = (w - crop_size[1]) // 2\n",
    "    bottom = top + crop_size[0]\n",
    "    right = left + crop_size[1]\n",
    "    img = img[top:bottom, left:right, :]\n",
    "    img = Image.fromarray(img)\n",
    "    \n",
    "    return img"
   ]
  },
  {
   "cell_type": "code",
   "execution_count": null,
   "id": "10747a57",
   "metadata": {},
   "outputs": [],
   "source": [
    "def data_augmentation(src):\n",
    "    dst = src.copy()\n",
    "    dst = random_enhance(dst, p=0.5)\n",
    "    \n",
    "    dst = random_fisheye(dst, p=1.0)\n",
    "    dst = center_crop(dst, scale_height)\n",
    "    \n",
    "    dst = random_noise(dst, p=0.5)\n",
    "    dst = random_blur(dst, p=0.5)\n",
    "    \n",
    "    return dst"
   ]
  },
  {
   "cell_type": "code",
   "execution_count": null,
   "id": "50e5ad0f",
   "metadata": {},
   "outputs": [],
   "source": []
  },
  {
   "cell_type": "markdown",
   "id": "9e09850f",
   "metadata": {},
   "source": [
    "## <font color = navy> Example: Data Generator (Multiple Samples)</font>"
   ]
  },
  {
   "cell_type": "code",
   "execution_count": null,
   "id": "dcdeea73",
   "metadata": {},
   "outputs": [],
   "source": [
    "def data_generator(num, imgDir_path, labDir_path):\n",
    "    degree_list = []\n",
    "    quan_degree_list = []\n",
    "    \n",
    "    for i in range(num):\n",
    "        # Random Pick Guage / Needle / Background Image\n",
    "        gauge_img = gauge_img_list[random.randint(1, len(gauge_list)-1)]\n",
    "        needle_img = needle_img_list[random.randint(1, len(needle_list)-1)]\n",
    "        bg_img = bg_list[random.randint(1, len(bg_list)-1)]\n",
    "        \n",
    "        # Generate degree\n",
    "        rotate_degree = randrange(0, 360) #-180,180 \n",
    "        degree_list.append(rotate_degree)\n",
    "        \n",
    "        # Quantize degree\n",
    "        quan_rotate_degree = int(rotate_degree/DEG_UNIT) # label scaling / DEG_UNIT\n",
    "        quan_degree_list.append(quan_rotate_degree) \n",
    "        print(\"{}/{}, rotate degree: {}, class: {}\".format(i, num, rotate_degree, quan_rotate_degree))\n",
    "        \n",
    "        # Rotate needle\n",
    "        rotate_needle = needle_img.rotate(rotate_degree, expand=False)\n",
    "        rotate_needle = rotate_needle.transpose(Image.FLIP_LEFT_RIGHT)\n",
    "        \n",
    "        # Copy Image\n",
    "        random_img = bg_img.copy()\n",
    "          \n",
    "        # Synthesis Image\n",
    "        x, y = randrange(-10, 10), randrange(-10, 10)\n",
    "        \n",
    "        random_img.paste(gauge_img.convert('L'), (x, y), gauge_img.convert('RGBA'))\n",
    "        random_img.paste(rotate_needle.convert('L'), (x, y), rotate_needle.convert('RGBA'))\n",
    "        \n",
    "        # random_img.paste(gauge_img.convert('L'), (0, 0), gauge_img.convert('RGBA'))\n",
    "        # random_img.paste(rotate_needle.convert('L'), (0, 0), rotate_needle.convert('RGBA'))\n",
    "        \n",
    "        \n",
    "        \n",
    "        # Data Augmentation\n",
    "        random_img = data_augmentation(random_img)\n",
    "        \n",
    "        # Convert to gray\n",
    "        gray_random_img = random_img.convert('L') # to gray\n",
    "        \n",
    "        img_path = imgDir_path + '/' + str(i) + '.png'\n",
    "        gray_random_img.save(img_path, \"png\")\n",
    "     \n",
    "    data = {\"degree\":degree_list,\n",
    "            \"class\": quan_degree_list}\n",
    "    df = pd.DataFrame(data)\n",
    "    df.index.name = None\n",
    "    \n",
    "    return df"
   ]
  },
  {
   "cell_type": "code",
   "execution_count": null,
   "id": "fd7f4fce",
   "metadata": {
    "scrolled": true
   },
   "outputs": [],
   "source": [
    "df = data_generator(num, imgDir_path, labDir_path)\n",
    "df.to_csv(labDir_path + \"/label.csv\") # save label to csv"
   ]
  },
  {
   "cell_type": "code",
   "execution_count": null,
   "id": "138e5e52",
   "metadata": {},
   "outputs": [],
   "source": [
    "df.head(5)"
   ]
  },
  {
   "cell_type": "markdown",
   "id": "fe9726bc",
   "metadata": {},
   "source": [
    "## <font color = navy> Show Generate Image in Directory</font>"
   ]
  },
  {
   "cell_type": "code",
   "execution_count": null,
   "id": "5b8e769d",
   "metadata": {},
   "outputs": [],
   "source": [
    "fig = plt.figure(figsize=(15,10))\n",
    "for i in range(15):  \n",
    "    ax = fig.add_subplot(3, 5, i+1)\n",
    "    show_img_path = train_img_path + str(i) + \".png\"\n",
    "    img = Image.open(show_img_path).convert('RGBA')\n",
    "    degree = df['degree'][i]\n",
    "    \n",
    "    ax.imshow(img, cmap=plt.get_cmap('gray'))\n",
    "    ax.set_title('degree: {y}'.format(y=degree))\n",
    "    plt.axis('off')"
   ]
  },
  {
   "cell_type": "code",
   "execution_count": null,
   "id": "0392c1b4",
   "metadata": {},
   "outputs": [],
   "source": []
  },
  {
   "cell_type": "markdown",
   "id": "261f953d",
   "metadata": {},
   "source": [
    "## <font color = navy> Example: Detection Data Generator (Multiple Samples)</font>"
   ]
  },
  {
   "cell_type": "code",
   "execution_count": null,
   "id": "80c8a8bb",
   "metadata": {},
   "outputs": [],
   "source": [
    "def detect_data_generator(num, imgDir_path):\n",
    "    detect_list = []\n",
    "    \n",
    "    for i in range(num):\n",
    "        noGauge = False\n",
    "        \n",
    "        # Random Pick Guage / Needle / Background Image\n",
    "        gauge_img = gauge_img_list[random.randint(1, len(gauge_list)-1)]\n",
    "        needle_img = needle_img_list[random.randint(1, len(needle_list)-1)]\n",
    "        bg_img = bg_list[random.randint(1, len(bg_list)-1)]\n",
    "        \n",
    "        # Copy Image\n",
    "        random_img = bg_img.copy()\n",
    "        \n",
    "        # Probability\n",
    "        prob = random.random()\n",
    "        \n",
    "        # Only Background\n",
    "        if prob < 0.1:\n",
    "            detect_list.append(0)\n",
    "            noGauge = True\n",
    "            \n",
    "            # Data Augmentation\n",
    "            random_img = data_augmentation(random_img)\n",
    "        \n",
    "        # Upper Left\n",
    "        elif prob < 0.2:\n",
    "            detect_list.append(1)\n",
    "            x, y = randrange(-100, -5), randrange(-100, -5)\n",
    "        \n",
    "        # Upper\n",
    "        elif prob < 0.3:\n",
    "            detect_list.append(2)\n",
    "            x, y = randrange(-5, 5), randrange(-100, -5)\n",
    "            \n",
    "        # Upper Right\n",
    "        elif prob < 0.4:\n",
    "            detect_list.append(3)\n",
    "            x, y = randrange(5, 100), randrange(-100, -5)\n",
    "        \n",
    "        # Left\n",
    "        elif prob < 0.5:\n",
    "            detect_list.append(4)\n",
    "            x, y = randrange(-100, -5), randrange(-5, 5)\n",
    "            \n",
    "        # Middle\n",
    "        elif prob < 0.6:\n",
    "            detect_list.append(5)\n",
    "            x, y = randrange(-5, 5), randrange(-5, 5) #+-10\n",
    "\n",
    "        elif prob < 0.7:\n",
    "            detect_list.append(6)\n",
    "            x, y = randrange(5, 100), randrange(-5, 5)\n",
    "        \n",
    "        elif prob < 0.8:\n",
    "            detect_list.append(7)\n",
    "            x, y = randrange(-100, -5), randrange(5, 100)\n",
    "            \n",
    "        \n",
    "        elif prob < 0.9:\n",
    "            detect_list.append(8)\n",
    "            x, y = randrange(-5, 5), randrange(5, 100)\n",
    "            \n",
    "        else:\n",
    "            detect_list.append(9)\n",
    "            x, y = randrange(5, 100), randrange(5, 100)\n",
    "\n",
    "        \n",
    "        if not noGauge:\n",
    "            # Generate degree\n",
    "            rotate_degree = randrange(0, 360) #-180,180 \n",
    "            \n",
    "            # Rotate needle\n",
    "            rotate_needle = needle_img.rotate(rotate_degree, expand=False)\n",
    "            rotate_needle = rotate_needle.transpose(Image.FLIP_LEFT_RIGHT)\n",
    "\n",
    "            # Synthesis Image\n",
    "            random_img.paste(gauge_img.convert('L'), (x, y), gauge_img.convert('RGBA'))\n",
    "            random_img.paste(rotate_needle.convert('L'), (x, y), rotate_needle.convert('RGBA'))\n",
    "\n",
    "            # Data Augmentation\n",
    "            random_img = data_augmentation(random_img)\n",
    "        \n",
    "        # Convert to gray\n",
    "        gray_random_img = random_img.convert('L') # to gray\n",
    "\n",
    "        img_path = imgDir_path + '/' + str(i) + '.png'\n",
    "        gray_random_img.save(img_path, \"png\")\n",
    "        \n",
    "        print(\"{}/{}, detect: {}\".format(i, num, detect_list[-1]))\n",
    "        \n",
    "        \n",
    "    data = {\"detect\":detect_list}\n",
    "    df = pd.DataFrame(data)\n",
    "    df.index.name = None\n",
    "    \n",
    "    return df"
   ]
  },
  {
   "cell_type": "code",
   "execution_count": null,
   "id": "f42b35a7",
   "metadata": {},
   "outputs": [],
   "source": [
    "detect_df = detect_data_generator(15000, detectImg_path)\n",
    "detect_df.to_csv(detectLab_path + \"/detect_label.csv\") # save label to csv"
   ]
  },
  {
   "cell_type": "code",
   "execution_count": null,
   "id": "da02eb68",
   "metadata": {},
   "outputs": [],
   "source": []
  },
  {
   "cell_type": "code",
   "execution_count": null,
   "id": "43e455d8",
   "metadata": {},
   "outputs": [],
   "source": []
  }
 ],
 "metadata": {
  "kernelspec": {
   "display_name": "Python 3 (ipykernel)",
   "language": "python",
   "name": "python3"
  },
  "language_info": {
   "codemirror_mode": {
    "name": "ipython",
    "version": 3
   },
   "file_extension": ".py",
   "mimetype": "text/x-python",
   "name": "python",
   "nbconvert_exporter": "python",
   "pygments_lexer": "ipython3",
   "version": "3.8.0"
  }
 },
 "nbformat": 4,
 "nbformat_minor": 5
}
